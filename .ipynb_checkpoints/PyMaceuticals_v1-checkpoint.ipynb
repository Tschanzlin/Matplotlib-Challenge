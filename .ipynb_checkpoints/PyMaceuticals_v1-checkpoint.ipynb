{
 "cells": [
  {
   "cell_type": "markdown",
   "metadata": {},
   "source": [
    "## Observations and Insights "
   ]
  },
  {
   "cell_type": "markdown",
   "metadata": {},
   "source": []
  },
  {
   "cell_type": "code",
   "execution_count": null,
   "metadata": {},
   "outputs": [],
   "source": [
    "# Dependencies and Setup\n",
    "import matplotlib.pyplot as plt\n",
    "import pandas as pd\n",
    "import scipy.stats as st\n",
    "import numpy as np\n",
    "\n",
    "%matplotlib notebook\n",
    "\n",
    "# Set data filepaths\n",
    "mouse_metadata_path = \"Pymaceuticals/data/Mouse_metadata.csv\"\n",
    "study_results_path = \"Pymaceuticals/data/Study_results.csv\"\n",
    "\n",
    "# Read the mouse data and reivew files results\n",
    "mouse_metadata = pd.read_csv(mouse_metadata_path)\n",
    "study_results = pd.read_csv(study_results_path)\n",
    "\n",
    "# print(mouse_metadata, study_results)\n",
    "# mouse_metadata.info()\n",
    "# study_results.info()\n",
    "\n",
    "# Combine the data into a single dataset\n",
    "merge_df = pd.merge(mouse_metadata, study_results, on=\"Mouse ID\", how=\"outer\")\n",
    "# merge_df.describe()\n",
    "\n",
    "# Display the data table for preview\n",
    "# merge_df.head()\n"
   ]
  },
  {
   "cell_type": "code",
   "execution_count": null,
   "metadata": {},
   "outputs": [],
   "source": [
    "# Checking the number of mice.\n",
    "# merge_df[\"Mouse ID\"].value_counts()\n"
   ]
  },
  {
   "cell_type": "code",
   "execution_count": null,
   "metadata": {},
   "outputs": [],
   "source": [
    "# Getting the duplicate mice by ID number that shows up for Mouse ID and Timepoint. \n",
    "# merge_df.loc[merge_df.duplicated(['Mouse ID','Timepoint'])]\n"
   ]
  },
  {
   "cell_type": "code",
   "execution_count": null,
   "metadata": {},
   "outputs": [],
   "source": [
    "# Optional: Get all the data for the duplicate mouse ID. \n",
    "# merge_df.loc[merge_df['Mouse ID'] == 'g989']\n"
   ]
  },
  {
   "cell_type": "code",
   "execution_count": null,
   "metadata": {},
   "outputs": [],
   "source": [
    "# Create a clean DataFrame by dropping the duplicate mouse by its ID.\n",
    "clean_df = merge_df.drop_duplicates(subset=[\"Mouse ID\", \"Timepoint\"], keep=False)\n",
    "clean_df.head()\n"
   ]
  },
  {
   "cell_type": "code",
   "execution_count": null,
   "metadata": {},
   "outputs": [],
   "source": [
    "# Checking the number of mice in the clean DataFrame.\n",
    "# NOTE:  Confirms same number of mice in dataset\n",
    "# clean_df[\"Mouse ID\"].value_counts()\n",
    "\n",
    "# NOTE:  Confirms absence of any duplicate data \n",
    "#clean_df.loc[clean_df.duplicated(['Mouse ID','Timepoint'])]"
   ]
  },
  {
   "cell_type": "markdown",
   "metadata": {},
   "source": [
    "## Summary Statistics"
   ]
  },
  {
   "cell_type": "code",
   "execution_count": null,
   "metadata": {},
   "outputs": [],
   "source": [
    "# Explore difference between series and dataframe for mean values\n",
    "\n",
    "mean = round(clean_df.groupby(\"Drug Regimen\")[\"Tumor Volume (mm3)\"].mean(), 2)\n",
    "mean\n"
   ]
  },
  {
   "cell_type": "code",
   "execution_count": null,
   "metadata": {},
   "outputs": [],
   "source": [
    "ketmean = mean[3]\n",
    "ketmean\n"
   ]
  },
  {
   "cell_type": "code",
   "execution_count": null,
   "metadata": {},
   "outputs": [],
   "source": [
    "mean_df = pd.DataFrame(mean)\n",
    "mean_df\n",
    "\n",
    "ketmean1 = mean_df.loc[\"Ketapril\"]\n",
    "ketmean1\n",
    "\n"
   ]
  },
  {
   "cell_type": "code",
   "execution_count": null,
   "metadata": {},
   "outputs": [],
   "source": [
    "# Create a summary table of mean, median, variance, standard deviation, and SEM of the tumor volume for each regimen\n",
    "\n",
    "mean = round(clean_df.groupby(\"Drug Regimen\")[\"Tumor Volume (mm3)\"].mean(), 2)\n",
    "median = round(clean_df.groupby(\"Drug Regimen\")[\"Tumor Volume (mm3)\"].median(), 2)\n",
    "var = round(clean_df.groupby(\"Drug Regimen\")[\"Tumor Volume (mm3)\"].var(), 2)\n",
    "std = round(clean_df.groupby(\"Drug Regimen\")[\"Tumor Volume (mm3)\"].std(), 2)\n",
    "sem = round(clean_df.groupby(\"Drug Regimen\")[\"Tumor Volume (mm3)\"].sem(), 2)\n",
    "\n",
    "### GET RID OF THE INDIVIDUAL DATAFRAMING AND USED COMBINED STATSUM1 FUNCTION\n",
    "#mean_df = pd.DataFrame({\"Mean\": mean})\n",
    "#median_df = pd.DataFrame({\"Median\": median})\n",
    "#var_df = pd.DataFrame({\"Variance\": var}) \n",
    "#std_df = pd.DataFrame({\"Std. Dev.\": std})\n",
    "#sem_df = pd.DataFrame({\"SEM\": sem})\n",
    "\n",
    "\n",
    "stats = {\"Mean\": mean, \"Median\": median, \"Variance\": var, \"Std. Dev.\": std, \"Sem\": sem}\n",
    "\n",
    "statsum1_df = pd.DataFrame(stats)\n",
    "statsum1_df\n"
   ]
  },
  {
   "cell_type": "code",
   "execution_count": null,
   "metadata": {},
   "outputs": [],
   "source": [
    "# Alternative method to create same table using agg function\n",
    "# Use agg function to calculate statistical values acrss all drug regimens\n",
    "\n",
    "columns = [\"mean\", \"median\", \"var\", \"std\", \"sem\"]\n",
    "statsum2_df = round(clean_df.groupby(\"Drug Regimen\").agg({\"Tumor Volume (mm3)\": columns}), 2)\n",
    "statsum3_df = round(clean_df.agg({\"Tumor Volume (mm3)\": columns}), 2)\n",
    "statsum2_df, statsum3_df\n"
   ]
  },
  {
   "cell_type": "markdown",
   "metadata": {},
   "source": [
    "## Bar and Pie Charts"
   ]
  },
  {
   "cell_type": "code",
   "execution_count": null,
   "metadata": {},
   "outputs": [],
   "source": [
    "## Calcualte values for charts\n",
    "# Group mouse ID's by regimen and return number of mice per regimen (.nunique()) and number of timepoints (.count())\n",
    "mouse_count_df = clean_df.groupby(\"Drug Regimen\")[\"Mouse ID\"].unique()\n",
    "mouse_count = clean_df.groupby(\"Drug Regimen\")[\"Mouse ID\"].nunique()\n",
    "time_count = clean_df.groupby(\"Drug Regimen\")[\"Mouse ID\"].count()\n",
    "timepermouse = round(time_count / mouse_count, 1)\n",
    "\n",
    "# Summarize data available for bar chart\n",
    "experiment = {\"# of Mice\": mouse_count, \"Tot Timepoints\": time_count, \"Timepoints per Mouse\": timepermouse}\n",
    "pd.DataFrame(experiment)\n"
   ]
  },
  {
   "cell_type": "code",
   "execution_count": null,
   "metadata": {},
   "outputs": [],
   "source": [
    "# Create series to hold index values\n",
    "regimen = mouse_count.index\n",
    "regimen"
   ]
  },
  {
   "cell_type": "code",
   "execution_count": null,
   "metadata": {},
   "outputs": [],
   "source": [
    "## Panda chart:  Create bar chart with total number of mice / treatment throughout the course of study using pandas \n",
    "# NOTE:  Using timepoints vs. mice, since there were only 24-25 unique mice used in each study\n",
    "\n",
    "# columns = [\"mean\", \"median\", \"var\", \"std\", \"sem\"]\n",
    "# values = [mean, median, var, std, sem]\n",
    "\n",
    "x_axis = np.arange(len(columns))"
   ]
  },
  {
   "cell_type": "code",
   "execution_count": null,
   "metadata": {},
   "outputs": [],
   "source": [
    "## Pyplot chart:  Create bar chart with total number of mice / treatment throughout the course of study using pyplot \n",
    "# Change the default size of chart to widen x-axis for better data display\n",
    "fig_size = plt.rcParams[\"figure.figsize\"]\n",
    "fig_size[0] = 10\n",
    "fig_size[1] = 5.5\n",
    "plt.rcParams[\"figure.figsize\"] = fig_size\n",
    "print(fig_size)\n"
   ]
  },
  {
   "cell_type": "code",
   "execution_count": null,
   "metadata": {},
   "outputs": [],
   "source": [
    "# Generate chart\n",
    "x_axis = np.arange(len(regimen))\n",
    "plt.bar(x_axis, time_count, color=\"b\", align=\"center\")\n"
   ]
  },
  {
   "cell_type": "code",
   "execution_count": null,
   "metadata": {},
   "outputs": [],
   "source": [
    "# Format matplotlib chart\n",
    "\n",
    "tick_locations = [value for value in x_axis]\n",
    "plt.xticks(tick_locations, regimen)\n",
    "plt.title(\"# of Mice per Regimen\")\n",
    "plt.xlabel(\"Drug Regimen\")\n",
    "plt.ylabel(\"# of Mice\")\n"
   ]
  },
  {
   "cell_type": "code",
   "execution_count": null,
   "metadata": {},
   "outputs": [],
   "source": [
    "# Generate a pie plot showing the distribution of female versus male mice using pyplot\n",
    "\n",
    "sex_df = clean_df.drop_duplicates(subset=[\"Mouse ID\"], keep=\"first\")\n",
    "female = sex_df[\"Sex\"].loc[sex_df[\"Sex\"] == \"Female\"].count()\n",
    "male = sex_df[\"Sex\"].loc[sex_df[\"Sex\"] == \"Male\"].count()\n",
    "male\n"
   ]
  },
  {
   "cell_type": "markdown",
   "metadata": {},
   "source": [
    "## Quartiles, Outliers and Boxplots"
   ]
  },
  {
   "cell_type": "code",
   "execution_count": null,
   "metadata": {},
   "outputs": [],
   "source": [
    "# Calculate the final tumor volume of each mouse across four of the treatment regimens:  \n",
    "# Capomulin, Ramicane, Infubinol, and Ceftamin\n",
    "\n",
    "### NOTE:  ASSUMING INCORRECTLY THAT FINAL TUMOR VOLUME IS MIN TUMOR VOLUME; NEED TO FIX\n",
    "\n",
    "# Step 1:  Calculate final tumor volume \n",
    "mintumor_df = clean_df.groupby([\"Drug Regimen\", \"Mouse ID\", ])[\"Tumor Volume (mm3)\"].min()\n",
    "\n",
    "pd.DataFrame(maxtumor_df)\n",
    "\n",
    "captumor = round(mintumor_df[\"Capomulin\"], 3)\n",
    "ramtumor = round(mintumor_df[\"Ramicane\"], 3)\n",
    "inftumor = round(mintumor_df[\"Infubinol\"], 3)\n",
    "ceftumor = round(mintumor_df[\"Ceftamin\"], 3)\n",
    "\n",
    "# Calculate quartiles and print summary output  \n",
    "\n",
    "capquart = captumor.quantile([.25, .5, .75])\n",
    "ramquart = ramtumor.quantile([.25, .5, .75])\n",
    "infquart = ramtumor.quantile([.25, .5, .75])\n",
    "cefquart = ramtumor.quantile([.25, .5, .75])\n",
    "\n",
    "sumout = {\"Capomulin Qrtl\": capquart, \"Ramicane Qrtl\": ramquart, \"Infubinol Qrtl\": infquart, \"Ceftamin Qrtl\": cefquart}\n",
    "pd.DataFrame(sumout)\n",
    "\n"
   ]
  },
  {
   "cell_type": "code",
   "execution_count": null,
   "metadata": {},
   "outputs": [],
   "source": [
    "# Put treatments into a list for for loop (and later for plot labels)\n",
    "\n",
    "\n",
    "# Create empty list to fill with tumor vol data (for plotting)\n",
    "\n",
    "\n",
    "# Calculate the IQR and quantitatively determine if there are any potential outliers. \n",
    "\n",
    "    \n",
    "    # Locate the rows which contain mice on each drug and get the tumor volumes\n",
    "    \n",
    "    \n",
    "    # add subset \n",
    "    \n",
    "    \n",
    "    # Determine outliers using upper and lower bounds\n",
    "    "
   ]
  },
  {
   "cell_type": "code",
   "execution_count": null,
   "metadata": {},
   "outputs": [],
   "source": [
    "# Generate a box plot of the final tumor volume of each mouse across four regimens of interest\n"
   ]
  },
  {
   "cell_type": "markdown",
   "metadata": {},
   "source": [
    "## Line and Scatter Plots"
   ]
  },
  {
   "cell_type": "code",
   "execution_count": null,
   "metadata": {},
   "outputs": [],
   "source": [
    "# Generate a line plot of time point versus tumor volume for a mouse treated with Capomulin\n",
    "\n",
    "# Step 1:  Review Capomulin mouse trial data (looking for high number of time points for graph)\n",
    "capomulin_df = clean_df.loc[clean_df[\"Drug Regimen\"] == \"Capomulin\"]\n",
    "capomulin_df[[\"Mouse ID\", \"Tumor Volume (mm3)\", \"Timepoint\"]].groupby(\"Mouse ID\").count()\n",
    "\n",
    "# Step 2:  Select a mouse and create data for x-axis (timepoints) and y-axis (tummor volume)\n",
    "mouse = capomulin_df.loc[capomulin_df[\"Mouse ID\"] == \"b128\"]\n",
    "x_axis = mouse[\"Timepoint\"]\n",
    "y_axis = mouse[\"Tumor Volume (mm3)\"]"
   ]
  },
  {
   "cell_type": "code",
   "execution_count": null,
   "metadata": {},
   "outputs": [],
   "source": [
    "# Select a mouse and review it's data\n",
    "\n",
    "mouse = capomulin_df.loc[capomulin_df[\"Mouse ID\"] == \"b128\"]\n",
    "mouse\n"
   ]
  },
  {
   "cell_type": "code",
   "execution_count": null,
   "metadata": {},
   "outputs": [],
   "source": [
    "# Create data for x-axis (timepoints) and y-axis (tummor volume)\n",
    "\n",
    "x_axis = mouse[\"Timepoint\"]\n",
    "x_axis\n",
    "\n",
    "y_axis = mouse[\"Tumor Volume (mm3)\"]\n",
    "y_axis\n",
    "# pd.DataFrame(x_axis)\n",
    "x_axis"
   ]
  },
  {
   "cell_type": "code",
   "execution_count": null,
   "metadata": {},
   "outputs": [],
   "source": [
    "# Generate a scatter plot of mouse weight versus average tumor volume for the Capomulin regimen\n",
    "plt.plot([1, 2, 3, 4, 5], [10, 11, 12, 13, 14])\n"
   ]
  },
  {
   "cell_type": "code",
   "execution_count": null,
   "metadata": {},
   "outputs": [],
   "source": [
    "# Show the graph that was created\n",
    "plt.show()"
   ]
  },
  {
   "cell_type": "markdown",
   "metadata": {},
   "source": [
    "## Correlation and Regression"
   ]
  },
  {
   "cell_type": "code",
   "execution_count": null,
   "metadata": {},
   "outputs": [],
   "source": [
    "# Calculate the correlation coefficient and linear regression model \n",
    "# for mouse weight and average tumor volume for the Capomulin regimen\n"
   ]
  },
  {
   "cell_type": "code",
   "execution_count": null,
   "metadata": {},
   "outputs": [],
   "source": []
  }
 ],
 "metadata": {
  "anaconda-cloud": {},
  "kernelspec": {
   "display_name": "Python 3",
   "language": "python",
   "name": "python3"
  },
  "language_info": {
   "codemirror_mode": {
    "name": "ipython",
    "version": 3
   },
   "file_extension": ".py",
   "mimetype": "text/x-python",
   "name": "python",
   "nbconvert_exporter": "python",
   "pygments_lexer": "ipython3",
   "version": "3.6.10"
  }
 },
 "nbformat": 4,
 "nbformat_minor": 2
}
